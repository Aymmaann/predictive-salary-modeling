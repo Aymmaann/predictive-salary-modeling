{
 "cells": [
  {
   "cell_type": "code",
   "execution_count": 1,
   "metadata": {},
   "outputs": [],
   "source": [
    "from pyspark.sql import SparkSession\n",
    "from pyspark.sql.functions import col, regexp_replace, split, udf\n",
    "from pyspark.sql.types import IntegerType"
   ]
  },
  {
   "cell_type": "code",
   "execution_count": 7,
   "metadata": {},
   "outputs": [],
   "source": [
    "spark = SparkSession.builder \\\n",
    "    .appName(\"Data Cleaning\") \\\n",
    "    .getOrCreate()"
   ]
  },
  {
   "cell_type": "code",
   "execution_count": 8,
   "metadata": {},
   "outputs": [],
   "source": [
    "input_path = \"job_descriptions_30000.csv\"\n",
    "df = spark.read.csv(input_path, header=True, inferSchema=True)"
   ]
  },
  {
   "cell_type": "code",
   "execution_count": 9,
   "metadata": {},
   "outputs": [],
   "source": [
    "def preprocess_experience(experience):\n",
    "    years = experience.split(' to ')\n",
    "    min_years = int(years[0])\n",
    "    max_years = int(years[1].split(' ')[0])\n",
    "    return (min_years + max_years) / 2\n",
    "\n",
    "preprocess_experience_udf = udf(preprocess_experience, IntegerType())\n",
    "df = df.withColumn(\"Experience\", preprocess_experience_udf(col(\"Experience\")))"
   ]
  },
  {
   "cell_type": "code",
   "execution_count": 10,
   "metadata": {},
   "outputs": [],
   "source": [
    "df = df.withColumn(\"Salary Range\", regexp_replace(col(\"Salary Range\"), r'[^\\d-]', ''))\n",
    "df = df.withColumn(\"Salary Range\", split(col(\"Salary Range\"), '-').getItem(0).cast(IntegerType()))"
   ]
  },
  {
   "cell_type": "code",
   "execution_count": 11,
   "metadata": {},
   "outputs": [],
   "source": [
    "output_path = \"processed/job_descriptions_30000.csv\"\n",
    "df.write.csv(output_path, header=True)"
   ]
  }
 ],
 "metadata": {
  "kernelspec": {
   "display_name": "venv",
   "language": "python",
   "name": "python3"
  },
  "language_info": {
   "codemirror_mode": {
    "name": "ipython",
    "version": 3
   },
   "file_extension": ".py",
   "mimetype": "text/x-python",
   "name": "python",
   "nbconvert_exporter": "python",
   "pygments_lexer": "ipython3",
   "version": "3.10.14"
  }
 },
 "nbformat": 4,
 "nbformat_minor": 2
}
